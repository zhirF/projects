{
 "cells": [
  {
   "cell_type": "code",
   "execution_count": 4,
   "id": "b780283e-15b6-4a63-b71f-63864f658d66",
   "metadata": {},
   "outputs": [],
   "source": [
    "# Iris + K-Means (elbow+silhouette to pick k) + PCA + lightweight dashboard"
   ]
  },
  {
   "cell_type": "code",
   "execution_count": 6,
   "id": "94159959-5177-4fad-af3b-dfa4f5b87c92",
   "metadata": {},
   "outputs": [],
   "source": [
    "# STEP 1: Imports"
   ]
  },
  {
   "cell_type": "code",
   "execution_count": 26,
   "id": "9ee98995-4dba-4fcf-8b74-f447be06e643",
   "metadata": {},
   "outputs": [],
   "source": [
    "import numpy as np, pandas as pd, matplotlib.pyplot as plt, seaborn as sns\n",
    "from sklearn.datasets import load_iris\n",
    "from sklearn.preprocessing import StandardScaler\n",
    "from sklearn.decomposition import PCA\n",
    "from sklearn.cluster import KMeans\n",
    "from sklearn.metrics import silhouette_score, silhouette_samples, adjusted_rand_score\n",
    "import warnings; warnings.filterwarnings(\"ignore\")\n",
    "sns.set_theme(style=\"whitegrid\", palette=\"muted\")\n",
    "rng = np.random.RandomState(42)"
   ]
  },
  {
   "cell_type": "code",
   "execution_count": 28,
   "id": "73c966fc-9fcf-4976-ae6d-ee519ad1df66",
   "metadata": {},
   "outputs": [],
   "source": [
    "# STEP 2: Load and scale"
   ]
  },
  {
   "cell_type": "code",
   "execution_count": 44,
   "id": "4b36469b-376c-45be-a068-83fd422d4cbb",
   "metadata": {},
   "outputs": [
    {
     "data": {
      "text/plain": [
       "{'data': array([[5.1, 3.5, 1.4, 0.2],\n",
       "        [4.9, 3. , 1.4, 0.2],\n",
       "        [4.7, 3.2, 1.3, 0.2],\n",
       "        [4.6, 3.1, 1.5, 0.2],\n",
       "        [5. , 3.6, 1.4, 0.2],\n",
       "        [5.4, 3.9, 1.7, 0.4],\n",
       "        [4.6, 3.4, 1.4, 0.3],\n",
       "        [5. , 3.4, 1.5, 0.2],\n",
       "        [4.4, 2.9, 1.4, 0.2],\n",
       "        [4.9, 3.1, 1.5, 0.1],\n",
       "        [5.4, 3.7, 1.5, 0.2],\n",
       "        [4.8, 3.4, 1.6, 0.2],\n",
       "        [4.8, 3. , 1.4, 0.1],\n",
       "        [4.3, 3. , 1.1, 0.1],\n",
       "        [5.8, 4. , 1.2, 0.2],\n",
       "        [5.7, 4.4, 1.5, 0.4],\n",
       "        [5.4, 3.9, 1.3, 0.4],\n",
       "        [5.1, 3.5, 1.4, 0.3],\n",
       "        [5.7, 3.8, 1.7, 0.3],\n",
       "        [5.1, 3.8, 1.5, 0.3],\n",
       "        [5.4, 3.4, 1.7, 0.2],\n",
       "        [5.1, 3.7, 1.5, 0.4],\n",
       "        [4.6, 3.6, 1. , 0.2],\n",
       "        [5.1, 3.3, 1.7, 0.5],\n",
       "        [4.8, 3.4, 1.9, 0.2],\n",
       "        [5. , 3. , 1.6, 0.2],\n",
       "        [5. , 3.4, 1.6, 0.4],\n",
       "        [5.2, 3.5, 1.5, 0.2],\n",
       "        [5.2, 3.4, 1.4, 0.2],\n",
       "        [4.7, 3.2, 1.6, 0.2],\n",
       "        [4.8, 3.1, 1.6, 0.2],\n",
       "        [5.4, 3.4, 1.5, 0.4],\n",
       "        [5.2, 4.1, 1.5, 0.1],\n",
       "        [5.5, 4.2, 1.4, 0.2],\n",
       "        [4.9, 3.1, 1.5, 0.2],\n",
       "        [5. , 3.2, 1.2, 0.2],\n",
       "        [5.5, 3.5, 1.3, 0.2],\n",
       "        [4.9, 3.6, 1.4, 0.1],\n",
       "        [4.4, 3. , 1.3, 0.2],\n",
       "        [5.1, 3.4, 1.5, 0.2],\n",
       "        [5. , 3.5, 1.3, 0.3],\n",
       "        [4.5, 2.3, 1.3, 0.3],\n",
       "        [4.4, 3.2, 1.3, 0.2],\n",
       "        [5. , 3.5, 1.6, 0.6],\n",
       "        [5.1, 3.8, 1.9, 0.4],\n",
       "        [4.8, 3. , 1.4, 0.3],\n",
       "        [5.1, 3.8, 1.6, 0.2],\n",
       "        [4.6, 3.2, 1.4, 0.2],\n",
       "        [5.3, 3.7, 1.5, 0.2],\n",
       "        [5. , 3.3, 1.4, 0.2],\n",
       "        [7. , 3.2, 4.7, 1.4],\n",
       "        [6.4, 3.2, 4.5, 1.5],\n",
       "        [6.9, 3.1, 4.9, 1.5],\n",
       "        [5.5, 2.3, 4. , 1.3],\n",
       "        [6.5, 2.8, 4.6, 1.5],\n",
       "        [5.7, 2.8, 4.5, 1.3],\n",
       "        [6.3, 3.3, 4.7, 1.6],\n",
       "        [4.9, 2.4, 3.3, 1. ],\n",
       "        [6.6, 2.9, 4.6, 1.3],\n",
       "        [5.2, 2.7, 3.9, 1.4],\n",
       "        [5. , 2. , 3.5, 1. ],\n",
       "        [5.9, 3. , 4.2, 1.5],\n",
       "        [6. , 2.2, 4. , 1. ],\n",
       "        [6.1, 2.9, 4.7, 1.4],\n",
       "        [5.6, 2.9, 3.6, 1.3],\n",
       "        [6.7, 3.1, 4.4, 1.4],\n",
       "        [5.6, 3. , 4.5, 1.5],\n",
       "        [5.8, 2.7, 4.1, 1. ],\n",
       "        [6.2, 2.2, 4.5, 1.5],\n",
       "        [5.6, 2.5, 3.9, 1.1],\n",
       "        [5.9, 3.2, 4.8, 1.8],\n",
       "        [6.1, 2.8, 4. , 1.3],\n",
       "        [6.3, 2.5, 4.9, 1.5],\n",
       "        [6.1, 2.8, 4.7, 1.2],\n",
       "        [6.4, 2.9, 4.3, 1.3],\n",
       "        [6.6, 3. , 4.4, 1.4],\n",
       "        [6.8, 2.8, 4.8, 1.4],\n",
       "        [6.7, 3. , 5. , 1.7],\n",
       "        [6. , 2.9, 4.5, 1.5],\n",
       "        [5.7, 2.6, 3.5, 1. ],\n",
       "        [5.5, 2.4, 3.8, 1.1],\n",
       "        [5.5, 2.4, 3.7, 1. ],\n",
       "        [5.8, 2.7, 3.9, 1.2],\n",
       "        [6. , 2.7, 5.1, 1.6],\n",
       "        [5.4, 3. , 4.5, 1.5],\n",
       "        [6. , 3.4, 4.5, 1.6],\n",
       "        [6.7, 3.1, 4.7, 1.5],\n",
       "        [6.3, 2.3, 4.4, 1.3],\n",
       "        [5.6, 3. , 4.1, 1.3],\n",
       "        [5.5, 2.5, 4. , 1.3],\n",
       "        [5.5, 2.6, 4.4, 1.2],\n",
       "        [6.1, 3. , 4.6, 1.4],\n",
       "        [5.8, 2.6, 4. , 1.2],\n",
       "        [5. , 2.3, 3.3, 1. ],\n",
       "        [5.6, 2.7, 4.2, 1.3],\n",
       "        [5.7, 3. , 4.2, 1.2],\n",
       "        [5.7, 2.9, 4.2, 1.3],\n",
       "        [6.2, 2.9, 4.3, 1.3],\n",
       "        [5.1, 2.5, 3. , 1.1],\n",
       "        [5.7, 2.8, 4.1, 1.3],\n",
       "        [6.3, 3.3, 6. , 2.5],\n",
       "        [5.8, 2.7, 5.1, 1.9],\n",
       "        [7.1, 3. , 5.9, 2.1],\n",
       "        [6.3, 2.9, 5.6, 1.8],\n",
       "        [6.5, 3. , 5.8, 2.2],\n",
       "        [7.6, 3. , 6.6, 2.1],\n",
       "        [4.9, 2.5, 4.5, 1.7],\n",
       "        [7.3, 2.9, 6.3, 1.8],\n",
       "        [6.7, 2.5, 5.8, 1.8],\n",
       "        [7.2, 3.6, 6.1, 2.5],\n",
       "        [6.5, 3.2, 5.1, 2. ],\n",
       "        [6.4, 2.7, 5.3, 1.9],\n",
       "        [6.8, 3. , 5.5, 2.1],\n",
       "        [5.7, 2.5, 5. , 2. ],\n",
       "        [5.8, 2.8, 5.1, 2.4],\n",
       "        [6.4, 3.2, 5.3, 2.3],\n",
       "        [6.5, 3. , 5.5, 1.8],\n",
       "        [7.7, 3.8, 6.7, 2.2],\n",
       "        [7.7, 2.6, 6.9, 2.3],\n",
       "        [6. , 2.2, 5. , 1.5],\n",
       "        [6.9, 3.2, 5.7, 2.3],\n",
       "        [5.6, 2.8, 4.9, 2. ],\n",
       "        [7.7, 2.8, 6.7, 2. ],\n",
       "        [6.3, 2.7, 4.9, 1.8],\n",
       "        [6.7, 3.3, 5.7, 2.1],\n",
       "        [7.2, 3.2, 6. , 1.8],\n",
       "        [6.2, 2.8, 4.8, 1.8],\n",
       "        [6.1, 3. , 4.9, 1.8],\n",
       "        [6.4, 2.8, 5.6, 2.1],\n",
       "        [7.2, 3. , 5.8, 1.6],\n",
       "        [7.4, 2.8, 6.1, 1.9],\n",
       "        [7.9, 3.8, 6.4, 2. ],\n",
       "        [6.4, 2.8, 5.6, 2.2],\n",
       "        [6.3, 2.8, 5.1, 1.5],\n",
       "        [6.1, 2.6, 5.6, 1.4],\n",
       "        [7.7, 3. , 6.1, 2.3],\n",
       "        [6.3, 3.4, 5.6, 2.4],\n",
       "        [6.4, 3.1, 5.5, 1.8],\n",
       "        [6. , 3. , 4.8, 1.8],\n",
       "        [6.9, 3.1, 5.4, 2.1],\n",
       "        [6.7, 3.1, 5.6, 2.4],\n",
       "        [6.9, 3.1, 5.1, 2.3],\n",
       "        [5.8, 2.7, 5.1, 1.9],\n",
       "        [6.8, 3.2, 5.9, 2.3],\n",
       "        [6.7, 3.3, 5.7, 2.5],\n",
       "        [6.7, 3. , 5.2, 2.3],\n",
       "        [6.3, 2.5, 5. , 1.9],\n",
       "        [6.5, 3. , 5.2, 2. ],\n",
       "        [6.2, 3.4, 5.4, 2.3],\n",
       "        [5.9, 3. , 5.1, 1.8]]),\n",
       " 'target': array([0, 0, 0, 0, 0, 0, 0, 0, 0, 0, 0, 0, 0, 0, 0, 0, 0, 0, 0, 0, 0, 0,\n",
       "        0, 0, 0, 0, 0, 0, 0, 0, 0, 0, 0, 0, 0, 0, 0, 0, 0, 0, 0, 0, 0, 0,\n",
       "        0, 0, 0, 0, 0, 0, 1, 1, 1, 1, 1, 1, 1, 1, 1, 1, 1, 1, 1, 1, 1, 1,\n",
       "        1, 1, 1, 1, 1, 1, 1, 1, 1, 1, 1, 1, 1, 1, 1, 1, 1, 1, 1, 1, 1, 1,\n",
       "        1, 1, 1, 1, 1, 1, 1, 1, 1, 1, 1, 1, 2, 2, 2, 2, 2, 2, 2, 2, 2, 2,\n",
       "        2, 2, 2, 2, 2, 2, 2, 2, 2, 2, 2, 2, 2, 2, 2, 2, 2, 2, 2, 2, 2, 2,\n",
       "        2, 2, 2, 2, 2, 2, 2, 2, 2, 2, 2, 2, 2, 2, 2, 2, 2, 2]),\n",
       " 'frame': None,\n",
       " 'target_names': array(['setosa', 'versicolor', 'virginica'], dtype='<U10'),\n",
       " 'DESCR': '.. _iris_dataset:\\n\\nIris plants dataset\\n--------------------\\n\\n**Data Set Characteristics:**\\n\\n:Number of Instances: 150 (50 in each of three classes)\\n:Number of Attributes: 4 numeric, predictive attributes and the class\\n:Attribute Information:\\n    - sepal length in cm\\n    - sepal width in cm\\n    - petal length in cm\\n    - petal width in cm\\n    - class:\\n            - Iris-Setosa\\n            - Iris-Versicolour\\n            - Iris-Virginica\\n\\n:Summary Statistics:\\n\\n============== ==== ==== ======= ===== ====================\\n                Min  Max   Mean    SD   Class Correlation\\n============== ==== ==== ======= ===== ====================\\nsepal length:   4.3  7.9   5.84   0.83    0.7826\\nsepal width:    2.0  4.4   3.05   0.43   -0.4194\\npetal length:   1.0  6.9   3.76   1.76    0.9490  (high!)\\npetal width:    0.1  2.5   1.20   0.76    0.9565  (high!)\\n============== ==== ==== ======= ===== ====================\\n\\n:Missing Attribute Values: None\\n:Class Distribution: 33.3% for each of 3 classes.\\n:Creator: R.A. Fisher\\n:Donor: Michael Marshall (MARSHALL%PLU@io.arc.nasa.gov)\\n:Date: July, 1988\\n\\nThe famous Iris database, first used by Sir R.A. Fisher. The dataset is taken\\nfrom Fisher\\'s paper. Note that it\\'s the same as in R, but not as in the UCI\\nMachine Learning Repository, which has two wrong data points.\\n\\nThis is perhaps the best known database to be found in the\\npattern recognition literature.  Fisher\\'s paper is a classic in the field and\\nis referenced frequently to this day.  (See Duda & Hart, for example.)  The\\ndata set contains 3 classes of 50 instances each, where each class refers to a\\ntype of iris plant.  One class is linearly separable from the other 2; the\\nlatter are NOT linearly separable from each other.\\n\\n.. dropdown:: References\\n\\n  - Fisher, R.A. \"The use of multiple measurements in taxonomic problems\"\\n    Annual Eugenics, 7, Part II, 179-188 (1936); also in \"Contributions to\\n    Mathematical Statistics\" (John Wiley, NY, 1950).\\n  - Duda, R.O., & Hart, P.E. (1973) Pattern Classification and Scene Analysis.\\n    (Q327.D83) John Wiley & Sons.  ISBN 0-471-22361-1.  See page 218.\\n  - Dasarathy, B.V. (1980) \"Nosing Around the Neighborhood: A New System\\n    Structure and Classification Rule for Recognition in Partially Exposed\\n    Environments\".  IEEE Transactions on Pattern Analysis and Machine\\n    Intelligence, Vol. PAMI-2, No. 1, 67-71.\\n  - Gates, G.W. (1972) \"The Reduced Nearest Neighbor Rule\".  IEEE Transactions\\n    on Information Theory, May 1972, 431-433.\\n  - See also: 1988 MLC Proceedings, 54-64.  Cheeseman et al\"s AUTOCLASS II\\n    conceptual clustering system finds 3 classes in the data.\\n  - Many, many more ...\\n',\n",
       " 'feature_names': ['sepal length (cm)',\n",
       "  'sepal width (cm)',\n",
       "  'petal length (cm)',\n",
       "  'petal width (cm)'],\n",
       " 'filename': 'iris.csv',\n",
       " 'data_module': 'sklearn.datasets.data'}"
      ]
     },
     "execution_count": 44,
     "metadata": {},
     "output_type": "execute_result"
    }
   ],
   "source": [
    "iris = load_iris()\n",
    "iris"
   ]
  },
  {
   "cell_type": "code",
   "execution_count": 30,
   "id": "361cb1f2-bcce-446b-9047-911220e64c07",
   "metadata": {},
   "outputs": [],
   "source": [
    "X = pd.DataFrame(iris.data, columns=iris.feature_names)\n",
    "y = pd.Series(iris.target, name=\"species\")\n",
    "scaler = StandardScaler()\n",
    "X_scaled = scaler.fit_transform(X)"
   ]
  },
  {
   "cell_type": "code",
   "execution_count": 32,
   "id": "6f88ede6-daad-41d8-b88b-69f5eaf4291c",
   "metadata": {},
   "outputs": [],
   "source": [
    "# STEP 3: Pick k via elbow and silhouette"
   ]
  },
  {
   "cell_type": "code",
   "execution_count": 34,
   "id": "0b433d4a-daa0-41c3-a6ba-97bcb807469d",
   "metadata": {},
   "outputs": [
    {
     "data": {
      "image/png": "[encoded data removed]",
      "text/plain": [
       "<Figure size 1000x400 with 2 Axes>"
      ]
     },
     "metadata": {},
     "output_type": "display_data"
    }
   ],
   "source": [
    "ks = list(range(2, 8))\n",
    "inertias, sils = [], []\n",
    "for k in ks:\n",
    "    km = KMeans(n_clusters=k, random_state=42, n_init=10).fit(Xs)\n",
    "    inertias.append(km.inertia_)\n",
    "    sils.append(silhouette_score(X_scaled, km.labels_))\n",
    "fig, ax = plt.subplots(1,2,figsize=(10,4))\n",
    "ax[0].plot(ks, inertias, marker=\"o\"); ax[0].set_title(\"Elbow (Inertia)\"); ax[0].set_xlabel(\"k\"); ax[0].set_ylabel(\"Inertia\")\n",
    "ax[1].plot(ks, sils, marker=\"o\"); ax[1].set_title(\"Silhouette vs k\"); ax[1].set_xlabel(\"k\"); ax[1].set_ylabel(\"Silhouette\")\n",
    "plt.show()\n",
    "k_best = ks[int(np.argmax(sils))]"
   ]
  },
  {
   "cell_type": "code",
   "execution_count": null,
   "id": "2ba0bb5d-4db3-477b-bea6-d5070140aa48",
   "metadata": {},
   "outputs": [],
   "source": [
    "# STEP 4: Fit final K-Means"
   ]
  },
  {
   "cell_type": "code",
   "execution_count": 38,
   "id": "6f814c3b-b649-4a32-a061-a14e17d8dcf0",
   "metadata": {},
   "outputs": [],
   "source": [
    "k_best = 3\n",
    "kmeans = KMeans(n_clusters=k_best, random_state=42, n_init=25)\n",
    "labels = kmeans.fit_predict(X_scaled)"
   ]
  },
  {
   "cell_type": "code",
   "execution_count": 20,
   "id": "e842a495-c011-41f7-ad9e-a552c1289ed8",
   "metadata": {},
   "outputs": [],
   "source": [
    "# STEP 5: PCA 2D projection"
   ]
  },
  {
   "cell_type": "code",
   "execution_count": 40,
   "id": "a4c06dbc-eb5e-479e-a17c-14b36a834d40",
   "metadata": {},
   "outputs": [
    {
     "data": {
      "image/png": "[encoded data removed]",
      "text/plain": [
       "<Figure size 600x500 with 1 Axes>"
      ]
     },
     "metadata": {},
     "output_type": "display_data"
    }
   ],
   "source": [
    "pca = PCA(n_components=2, random_state=42)\n",
    "Xp = pca.fit_transform(X_scaled)\n",
    "plt.figure(figsize=(6,5))\n",
    "sns.scatterplot(x=Xp[:,0], y=Xp[:,1], hue=labels, palette=\"tab10\", s=60)\n",
    "plt.title(f\"Iris • K-Means with k={k_best} (PCA2)\")\n",
    "plt.xlabel(\"PC1\"); plt.ylabel(\"PC2\"); plt.legend(title=\"cluster\")\n",
    "plt.show()"
   ]
  },
  {
   "cell_type": "code",
   "execution_count": null,
   "id": "dd6148ff-6202-4592-ba3b-e7150f7df2ab",
   "metadata": {},
   "outputs": [],
   "source": [
    "# STEP 6: Evaluation and quick dashboard (Plotly if available)"
   ]
  },
  {
   "cell_type": "code",
   "execution_count": 48,
   "id": "e30ae100-25ec-4e5b-8134-652f2f23b27f",
   "metadata": {},
   "outputs": [
    {
     "name": "stdout",
     "output_type": "stream",
     "text": [
      "{'k': 3, 'silhouette': 0.46, 'ARI_vs_true': 0.62}\n"
     ]
    },
    {
     "data": {
      "application/vnd.plotly.v1+json": {
       "config": {
        "plotlyServerURL": "https://plot.ly"
       },
       "data": [
        {
         "customdata": [
          [
           "setosa"
          ],
          [
           "setosa"
          ],
          [
           "setosa"
          ],
          [
           "setosa"
          ],
          [
           "setosa"
          ],
          [
           "setosa"
          ],
          [
           "setosa"
          ],
          [
           "setosa"
          ],
          [
           "setosa"
          ],
          [
           "setosa"
          ],
          [
           "setosa"
          ],
          [
           "setosa"
          ],
          [
           "setosa"
          ],
          [
           "setosa"
          ],
          [
           "setosa"
          ],
          [
           "setosa"
          ],
          [
           "setosa"
          ],
          [
           "setosa"
          ],
          [
           "setosa"
          ],
          [
           "setosa"
          ],
          [
           "setosa"
          ],
          [
           "setosa"
          ],
          [
           "setosa"
          ],
          [
           "setosa"
          ],
          [
           "setosa"
          ],
          [
           "setosa"
          ],
          [
           "setosa"
          ],
          [
           "setosa"
          ],
          [
           "setosa"
          ],
          [
           "setosa"
          ],
          [
           "setosa"
          ],
          [
           "setosa"
          ],
          [
           "setosa"
          ],
          [
           "setosa"
          ],
          [
           "setosa"
          ],
          [
           "setosa"
          ],
          [
           "setosa"
          ],
          [
           "setosa"
          ],
          [
           "setosa"
          ],
          [
           "setosa"
          ],
          [
           "setosa"
          ],
          [
           "setosa"
          ],
          [
           "setosa"
          ],
          [
           "setosa"
          ],
          [
           "setosa"
          ],
          [
           "setosa"
          ],
          [
           "setosa"
          ],
          [
           "setosa"
          ],
          [
           "setosa"
          ],
          [
           "setosa"
          ]
         ],
         "hovertemplate": "cluster=1<br>PC1=%{x}<br>PC2=%{y}<br>species=%{customdata[0]}<extra></extra>",
         "legendgroup": "1",
         "marker": {
          "color": "#636efa",
          "symbol": "circle"
         },
         "mode": "markers",
         "name": "1",
         "orientation": "v",
         "showlegend": true,
         "type": "scatter",
         "x": [
          -2.264702808807587,
          -2.080961151965766,
          -2.3642290538902992,
          -2.2993842170427063,
          -2.389842166313843,
          -2.0756309481765105,
          -2.444028835134151,
          -2.2328471588720133,
          -2.3346404779076195,
          -2.1843281749339405,
          -2.166310100701321,
          -2.3261308664426967,
          -2.218450898822408,
          -2.6331006957652265,
          -2.1987406032666885,
          -2.26221453160102,
          -2.207587695824591,
          -2.190349509192297,
          -1.8985719958028404,
          -2.343369053074991,
          -1.9143229960825665,
          -2.207012843194797,
          -2.77434470292733,
          -1.8186695286958476,
          -2.227163305706637,
          -1.9518463309003746,
          -2.051151372729414,
          -2.1685771746542146,
          -2.13956345130133,
          -2.265261493154239,
          -2.140122135647983,
          -1.831594770676027,
          -2.614947935858933,
          -2.446177391696513,
          -2.1099748753186507,
          -2.2078088990782643,
          -2.0451462067542,
          -2.5273319131704843,
          -2.4296325750845447,
          -2.1697107116306618,
          -2.286475143345669,
          -1.85812245637357,
          -2.553638395614354,
          -1.9644476837637392,
          -2.1370590058116217,
          -2.0697442995918287,
          -2.3847331657782607,
          -2.394376314219631,
          -2.229446547942673,
          -2.2038334355191287
         ],
         "xaxis": "x",
         "y": [
          0.4800265965209901,
          -0.6741335566053526,
          -0.34190802388467567,
          -0.5973945076746752,
          0.646835382902028,
          1.489177523321168,
          0.047644197630014935,
          0.22314807268959244,
          -1.115327675461666,
          -0.46901356140237527,
          1.0436906530538608,
          0.13307833523923232,
          -0.7286761653165705,
          -0.9615067291701627,
          1.8600571132939325,
          2.686284485110594,
          1.4836093631555736,
          0.48883831648632853,
          1.4050187944665504,
          1.1278493819084772,
          0.40885570775590685,
          0.9241214267468993,
          0.45834366775291646,
          0.08555852628736668,
          0.13725445536342792,
          -0.6256185877766763,
          0.24216355266166775,
          0.5271495253082682,
          0.31321781013995253,
          -0.33773190376048,
          -0.5045406901415179,
          0.42369506760378656,
          1.79357585610443,
          2.150727877392926,
          -0.4602018414370369,
          -0.20610739768843636,
          0.6615581114631089,
          0.5922927741908104,
          -0.9041800403761475,
          0.2688789614354716,
          0.4417153876990509,
          -2.337415157553348,
          -0.4791006901223134,
          0.4723266677192616,
          1.1422292620394097,
          -0.7110527253858937,
          1.1204297019845373,
          -0.38624687258915663,
          0.9979597643079814,
          0.009216357521276806
         ],
         "yaxis": "y"
        },
        {
         "customdata": [
          [
           "versicolor"
          ],
          [
           "versicolor"
          ],
          [
           "versicolor"
          ],
          [
           "versicolor"
          ],
          [
           "versicolor"
          ],
          [
           "versicolor"
          ],
          [
           "versicolor"
          ],
          [
           "versicolor"
          ],
          [
           "versicolor"
          ],
          [
           "versicolor"
          ],
          [
           "versicolor"
          ],
          [
           "virginica"
          ],
          [
           "virginica"
          ],
          [
           "virginica"
          ],
          [
           "virginica"
          ],
          [
           "virginica"
          ],
          [
           "virginica"
          ],
          [
           "virginica"
          ],
          [
           "virginica"
          ],
          [
           "virginica"
          ],
          [
           "virginica"
          ],
          [
           "virginica"
          ],
          [
           "virginica"
          ],
          [
           "virginica"
          ],
          [
           "virginica"
          ],
          [
           "virginica"
          ],
          [
           "virginica"
          ],
          [
           "virginica"
          ],
          [
           "virginica"
          ],
          [
           "virginica"
          ],
          [
           "virginica"
          ],
          [
           "virginica"
          ],
          [
           "virginica"
          ],
          [
           "virginica"
          ],
          [
           "virginica"
          ],
          [
           "virginica"
          ],
          [
           "virginica"
          ],
          [
           "virginica"
          ],
          [
           "virginica"
          ],
          [
           "virginica"
          ],
          [
           "virginica"
          ],
          [
           "virginica"
          ],
          [
           "virginica"
          ],
          [
           "virginica"
          ],
          [
           "virginica"
          ],
          [
           "virginica"
          ],
          [
           "virginica"
          ]
         ],
         "hovertemplate": "cluster=2<br>PC1=%{x}<br>PC2=%{y}<br>species=%{customdata[0]}<extra></extra>",
         "legendgroup": "2",
         "marker": {
          "color": "#EF553B",
          "symbol": "circle"
         },
         "mode": "markers",
         "name": "2",
         "orientation": "v",
         "showlegend": true,
         "type": "scatter",
         "x": [
          1.1017811830529478,
          0.7313374253960874,
          1.240979319515831,
          0.7465297413291607,
          0.8754071908577375,
          0.7376826487712582,
          0.8742736538812903,
          1.2565091165418834,
          1.3584051214406316,
          0.4291391155161608,
          1.0487280512090873,
          1.8445688677230287,
          2.2052667910753776,
          1.4401506638275392,
          1.8678122203305372,
          2.7518733356662763,
          2.3024394446251963,
          2.006686467676605,
          2.2597773490125,
          1.3641754921860076,
          1.6026786704779303,
          1.8839007017032423,
          1.5900773176145655,
          1.4714314611333181,
          2.4263289873157,
          3.3106955839338865,
          2.037716301469404,
          2.897651490734168,
          1.7007338974912167,
          1.9543267058530707,
          1.020950550695791,
          1.7883499201796653,
          1.8636475533282606,
          2.435953727922703,
          2.3049277218317643,
          1.8627032197949551,
          2.7987704475781072,
          1.576255910194754,
          1.3462921036270619,
          1.8520450517676696,
          2.014810429954875,
          1.9017840902621888,
          2.040558228052092,
          1.9981470959523757,
          1.8705032929564103,
          1.5211704996278377,
          1.3727877895140728
         ],
         "xaxis": "x",
         "y": [
          0.8629724182621589,
          0.5946147256694246,
          0.6162976544374983,
          0.7730193120985968,
          0.5090639567734084,
          0.396571561960239,
          0.2507933929006119,
          -0.07725601969586944,
          0.3313116817908978,
          0.8455822409050788,
          0.5220517968629425,
          0.8704213123248232,
          0.5620104770083552,
          -0.04698758810580692,
          0.29504482445701946,
          0.8004092010275413,
          0.4200655796427758,
          -0.7114386535471597,
          1.921010376459887,
          0.692756454490387,
          -0.42170044977261767,
          0.41924965060512326,
          0.6762448057233201,
          0.2556218244714703,
          2.5566612507954924,
          0.017780949320625992,
          0.9104674096183107,
          0.4136410595956469,
          1.0139218673227914,
          1.007777596153452,
          0.0643460292395617,
          -0.18736121459082922,
          0.5622907258861441,
          0.2592844331442795,
          2.626323468232379,
          -0.1785494946254908,
          0.8568033294971048,
          1.0685811073208076,
          0.42243061085250827,
          0.6761281744365212,
          0.6138856369235748,
          0.6895754942430025,
          0.8675206009552282,
          1.0491687471841449,
          0.38696608166572527,
          0.2690691442779515,
          1.011254418526793
         ],
         "yaxis": "y"
        },
        {
         "customdata": [
          [
           "versicolor"
          ],
          [
           "versicolor"
          ],
          [
           "versicolor"
          ],
          [
           "versicolor"
          ],
          [
           "versicolor"
          ],
          [
           "versicolor"
          ],
          [
           "versicolor"
          ],
          [
           "versicolor"
          ],
          [
           "versicolor"
          ],
          [
           "versicolor"
          ],
          [
           "versicolor"
          ],
          [
           "versicolor"
          ],
          [
           "versicolor"
          ],
          [
           "versicolor"
          ],
          [
           "versicolor"
          ],
          [
           "versicolor"
          ],
          [
           "versicolor"
          ],
          [
           "versicolor"
          ],
          [
           "versicolor"
          ],
          [
           "versicolor"
          ],
          [
           "versicolor"
          ],
          [
           "versicolor"
          ],
          [
           "versicolor"
          ],
          [
           "versicolor"
          ],
          [
           "versicolor"
          ],
          [
           "versicolor"
          ],
          [
           "versicolor"
          ],
          [
           "versicolor"
          ],
          [
           "versicolor"
          ],
          [
           "versicolor"
          ],
          [
           "versicolor"
          ],
          [
           "versicolor"
          ],
          [
           "versicolor"
          ],
          [
           "versicolor"
          ],
          [
           "versicolor"
          ],
          [
           "versicolor"
          ],
          [
           "versicolor"
          ],
          [
           "versicolor"
          ],
          [
           "versicolor"
          ],
          [
           "virginica"
          ],
          [
           "virginica"
          ],
          [
           "virginica"
          ],
          [
           "virginica"
          ],
          [
           "virginica"
          ],
          [
           "virginica"
          ],
          [
           "virginica"
          ],
          [
           "virginica"
          ],
          [
           "virginica"
          ],
          [
           "virginica"
          ],
          [
           "virginica"
          ],
          [
           "virginica"
          ],
          [
           "virginica"
          ],
          [
           "virginica"
          ]
         ],
         "hovertemplate": "cluster=0<br>PC1=%{x}<br>PC2=%{y}<br>species=%{customdata[0]}<extra></extra>",
         "legendgroup": "0",
         "marker": {
          "color": "#00cc96",
          "symbol": "circle"
         },
         "mode": "markers",
         "name": "0",
         "orientation": "v",
         "showlegend": true,
         "type": "scatter",
         "x": [
          0.4074830588173851,
          1.0754747006090781,
          0.388687336535665,
          -0.4873227421256392,
          0.9279016383549453,
          0.011426188736980446,
          -0.11019628000062877,
          0.44069344898307844,
          0.562108306443179,
          0.7195618886754965,
          -0.03335470317877197,
          0.35025166799508284,
          0.15881004754797157,
          1.2250936335624314,
          0.16491789938632748,
          0.47628719094097144,
          1.2341780976571488,
          0.6328581997098219,
          0.7026611831361823,
          0.6648003672253947,
          -0.040258610900595126,
          0.1307951754978608,
          0.023452688970551066,
          0.2415382729545111,
          1.0610946088426139,
          0.22397877351237988,
          1.044531384396279,
          0.06958832111642317,
          0.2834772382875755,
          0.2790777760554611,
          0.6245697914985716,
          0.33653037013143594,
          -0.36218338461938293,
          0.2885862388231575,
          0.09136065565450562,
          0.22771686553470025,
          0.5763882886534788,
          -0.4476670190286112,
          0.2567305888875848,
          1.1578816132057796,
          0.36701768786072453,
          1.2601150991975076,
          1.4676452010173238,
          1.2637666736398279,
          0.9779807342494216,
          1.3332321759732086,
          1.1751036315549324,
          1.1141477406864746,
          1.2024733016783906,
          0.9248249165424193,
          1.1578816132057796,
          1.5645804830303278,
          0.9606560300371277
         ],
         "xaxis": "x",
         "y": [
          -1.7544039893234111,
          -0.20842104605096587,
          -0.5932836359900755,
          -1.8524290868575746,
          0.03222607789115352,
          -1.034018275129441,
          -2.6540728185365654,
          -0.06329518843800151,
          -1.764724380616946,
          -0.186224605831506,
          -0.43900320998162473,
          -0.19631173455144407,
          -0.7920957424327218,
          -1.622243803091503,
          -1.302609230295773,
          -0.4173202812135512,
          -0.933325728799279,
          -0.4163877208890998,
          -0.06341181972480033,
          -0.22592785469484383,
          -1.058718546553909,
          -1.562271834209968,
          -1.5724755942167048,
          -0.7772563825848421,
          -0.6338432447349474,
          -0.28777351204320234,
          -1.3829887191907828,
          -0.21950333464771501,
          -1.329324639069577,
          -1.1200285237424041,
          0.024923029254012515,
          -0.9884040176703605,
          -2.0192378732386125,
          -0.8557303199870667,
          -0.18119212582577532,
          -0.3849200809873539,
          -0.15487359721655905,
          -1.5437920343977565,
          -0.5988517961556696,
          -0.6988698623306908,
          -1.5615028914765061,
          -1.162260421406464,
          -0.4422715873770828,
          -1.7067453803762687,
          -0.5717643248129921,
          -0.4818112186494298,
          -0.3163944723097914,
          -0.2929226233357318,
          -0.8113152708396694,
          0.01722310045228403,
          -0.6988698623306908,
          -0.896686808896527,
          -0.02433166816939949
         ],
         "yaxis": "y"
        }
       ],
       "layout": {
        "autosize": true,
        "legend": {
         "title": {
          "text": "cluster"
         },
         "tracegroupgap": 0
        },
        "margin": {
         "t": 60
        },
        "template": {
         "data": {
          "bar": [
           {
            "error_x": {
             "color": "#2a3f5f"
            },
            "error_y": {
             "color": "#2a3f5f"
            },
            "marker": {
             "line": {
              "color": "#E5ECF6",
              "width": 0.5
             },
             "pattern": {
              "fillmode": "overlay",
              "size": 10,
              "solidity": 0.2
             }
            },
            "type": "bar"
           }
          ],
          "barpolar": [
           {
            "marker": {
             "line": {
              "color": "#E5ECF6",
              "width": 0.5
             },
             "pattern": {
              "fillmode": "overlay",
              "size": 10,
              "solidity": 0.2
             }
            },
            "type": "barpolar"
           }
          ],
          "carpet": [
           {
            "aaxis": {
             "endlinecolor": "#2a3f5f",
             "gridcolor": "white",
             "linecolor": "white",
             "minorgridcolor": "white",
             "startlinecolor": "#2a3f5f"
            },
            "baxis": {
             "endlinecolor": "#2a3f5f",
             "gridcolor": "white",
             "linecolor": "white",
             "minorgridcolor": "white",
             "startlinecolor": "#2a3f5f"
            },
            "type": "carpet"
           }
          ],
          "choropleth": [
           {
            "colorbar": {
             "outlinewidth": 0,
             "ticks": ""
            },
            "type": "choropleth"
           }
          ],
          "contour": [
           {
            "colorbar": {
             "outlinewidth": 0,
             "ticks": ""
            },
            "colorscale": [
             [
              0,
              "#0d0887"
             ],
             [
              0.1111111111111111,
              "#46039f"
             ],
             [
              0.2222222222222222,
              "#7201a8"
             ],
             [
              0.3333333333333333,
              "#9c179e"
             ],
             [
              0.4444444444444444,
              "#bd3786"
             ],
             [
              0.5555555555555556,
              "#d8576b"
             ],
             [
              0.6666666666666666,
              "#ed7953"
             ],
             [
              0.7777777777777778,
              "#fb9f3a"
             ],
             [
              0.8888888888888888,
              "#fdca26"
             ],
             [
              1,
              "#f0f921"
             ]
            ],
            "type": "contour"
           }
          ],
          "contourcarpet": [
           {
            "colorbar": {
             "outlinewidth": 0,
             "ticks": ""
            },
            "type": "contourcarpet"
           }
          ],
          "heatmap": [
           {
            "colorbar": {
             "outlinewidth": 0,
             "ticks": ""
            },
            "colorscale": [
             [
              0,
              "#0d0887"
             ],
             [
              0.1111111111111111,
              "#46039f"
             ],
             [
              0.2222222222222222,
              "#7201a8"
             ],
             [
              0.3333333333333333,
              "#9c179e"
             ],
             [
              0.4444444444444444,
              "#bd3786"
             ],
             [
              0.5555555555555556,
              "#d8576b"
             ],
             [
              0.6666666666666666,
              "#ed7953"
             ],
             [
              0.7777777777777778,
              "#fb9f3a"
             ],
             [
              0.8888888888888888,
              "#fdca26"
             ],
             [
              1,
              "#f0f921"
             ]
            ],
            "type": "heatmap"
           }
          ],
          "heatmapgl": [
           {
            "colorbar": {
             "outlinewidth": 0,
             "ticks": ""
            },
            "colorscale": [
             [
              0,
              "#0d0887"
             ],
             [
              0.1111111111111111,
              "#46039f"
             ],
             [
              0.2222222222222222,
              "#7201a8"
             ],
             [
              0.3333333333333333,
              "#9c179e"
             ],
             [
              0.4444444444444444,
              "#bd3786"
             ],
             [
              0.5555555555555556,
              "#d8576b"
             ],
             [
              0.6666666666666666,
              "#ed7953"
             ],
             [
              0.7777777777777778,
              "#fb9f3a"
             ],
             [
              0.8888888888888888,
              "#fdca26"
             ],
             [
              1,
              "#f0f921"
             ]
            ],
            "type": "heatmapgl"
           }
          ],
          "histogram": [
           {
            "marker": {
             "pattern": {
              "fillmode": "overlay",
              "size": 10,
              "solidity": 0.2
             }
            },
            "type": "histogram"
           }
          ],
          "histogram2d": [
           {
            "colorbar": {
             "outlinewidth": 0,
             "ticks": ""
            },
            "colorscale": [
             [
              0,
              "#0d0887"
             ],
             [
              0.1111111111111111,
              "#46039f"
             ],
             [
              0.2222222222222222,
              "#7201a8"
             ],
             [
              0.3333333333333333,
              "#9c179e"
             ],
             [
              0.4444444444444444,
              "#bd3786"
             ],
             [
              0.5555555555555556,
              "#d8576b"
             ],
             [
              0.6666666666666666,
              "#ed7953"
             ],
             [
              0.7777777777777778,
              "#fb9f3a"
             ],
             [
              0.8888888888888888,
              "#fdca26"
             ],
             [
              1,
              "#f0f921"
             ]
            ],
            "type": "histogram2d"
           }
          ],
          "histogram2dcontour": [
           {
            "colorbar": {
             "outlinewidth": 0,
             "ticks": ""
            },
            "colorscale": [
             [
              0,
              "#0d0887"
             ],
             [
              0.1111111111111111,
              "#46039f"
             ],
             [
              0.2222222222222222,
              "#7201a8"
             ],
             [
              0.3333333333333333,
              "#9c179e"
             ],
             [
              0.4444444444444444,
              "#bd3786"
             ],
             [
              0.5555555555555556,
              "#d8576b"
             ],
             [
              0.6666666666666666,
              "#ed7953"
             ],
             [
              0.7777777777777778,
              "#fb9f3a"
             ],
             [
              0.8888888888888888,
              "#fdca26"
             ],
             [
              1,
              "#f0f921"
             ]
            ],
            "type": "histogram2dcontour"
           }
          ],
          "mesh3d": [
           {
            "colorbar": {
             "outlinewidth": 0,
             "ticks": ""
            },
            "type": "mesh3d"
           }
          ],
          "parcoords": [
           {
            "line": {
             "colorbar": {
              "outlinewidth": 0,
              "ticks": ""
             }
            },
            "type": "parcoords"
           }
          ],
          "pie": [
           {
            "automargin": true,
            "type": "pie"
           }
          ],
          "scatter": [
           {
            "fillpattern": {
             "fillmode": "overlay",
             "size": 10,
             "solidity": 0.2
            },
            "type": "scatter"
           }
          ],
          "scatter3d": [
           {
            "line": {
             "colorbar": {
              "outlinewidth": 0,
              "ticks": ""
             }
            },
            "marker": {
             "colorbar": {
              "outlinewidth": 0,
              "ticks": ""
             }
            },
            "type": "scatter3d"
           }
          ],
          "scattercarpet": [
           {
            "marker": {
             "colorbar": {
              "outlinewidth": 0,
              "ticks": ""
             }
            },
            "type": "scattercarpet"
           }
          ],
          "scattergeo": [
           {
            "marker": {
             "colorbar": {
              "outlinewidth": 0,
              "ticks": ""
             }
            },
            "type": "scattergeo"
           }
          ],
          "scattergl": [
           {
            "marker": {
             "colorbar": {
              "outlinewidth": 0,
              "ticks": ""
             }
            },
            "type": "scattergl"
           }
          ],
          "scattermapbox": [
           {
            "marker": {
             "colorbar": {
              "outlinewidth": 0,
              "ticks": ""
             }
            },
            "type": "scattermapbox"
           }
          ],
          "scatterpolar": [
           {
            "marker": {
             "colorbar": {
              "outlinewidth": 0,
              "ticks": ""
             }
            },
            "type": "scatterpolar"
           }
          ],
          "scatterpolargl": [
           {
            "marker": {
             "colorbar": {
              "outlinewidth": 0,
              "ticks": ""
             }
            },
            "type": "scatterpolargl"
           }
          ],
          "scatterternary": [
           {
            "marker": {
             "colorbar": {
              "outlinewidth": 0,
              "ticks": ""
             }
            },
            "type": "scatterternary"
           }
          ],
          "surface": [
           {
            "colorbar": {
             "outlinewidth": 0,
             "ticks": ""
            },
            "colorscale": [
             [
              0,
              "#0d0887"
             ],
             [
              0.1111111111111111,
              "#46039f"
             ],
             [
              0.2222222222222222,
              "#7201a8"
             ],
             [
              0.3333333333333333,
              "#9c179e"
             ],
             [
              0.4444444444444444,
              "#bd3786"
             ],
             [
              0.5555555555555556,
              "#d8576b"
             ],
             [
              0.6666666666666666,
              "#ed7953"
             ],
             [
              0.7777777777777778,
              "#fb9f3a"
             ],
             [
              0.8888888888888888,
              "#fdca26"
             ],
             [
              1,
              "#f0f921"
             ]
            ],
            "type": "surface"
           }
          ],
          "table": [
           {
            "cells": {
             "fill": {
              "color": "#EBF0F8"
             },
             "line": {
              "color": "white"
             }
            },
            "header": {
             "fill": {
              "color": "#C8D4E3"
             },
             "line": {
              "color": "white"
             }
            },
            "type": "table"
           }
          ]
         },
         "layout": {
          "annotationdefaults": {
           "arrowcolor": "#2a3f5f",
           "arrowhead": 0,
           "arrowwidth": 1
          },
          "autotypenumbers": "strict",
          "coloraxis": {
           "colorbar": {
            "outlinewidth": 0,
            "ticks": ""
           }
          },
          "colorscale": {
           "diverging": [
            [
             0,
             "#8e0152"
            ],
            [
             0.1,
             "#c51b7d"
            ],
            [
             0.2,
             "#de77ae"
            ],
            [
             0.3,
             "#f1b6da"
            ],
            [
             0.4,
             "#fde0ef"
            ],
            [
             0.5,
             "#f7f7f7"
            ],
            [
             0.6,
             "#e6f5d0"
            ],
            [
             0.7,
             "#b8e186"
            ],
            [
             0.8,
             "#7fbc41"
            ],
            [
             0.9,
             "#4d9221"
            ],
            [
             1,
             "#276419"
            ]
           ],
           "sequential": [
            [
             0,
             "#0d0887"
            ],
            [
             0.1111111111111111,
             "#46039f"
            ],
            [
             0.2222222222222222,
             "#7201a8"
            ],
            [
             0.3333333333333333,
             "#9c179e"
            ],
            [
             0.4444444444444444,
             "#bd3786"
            ],
            [
             0.5555555555555556,
             "#d8576b"
            ],
            [
             0.6666666666666666,
             "#ed7953"
            ],
            [
             0.7777777777777778,
             "#fb9f3a"
            ],
            [
             0.8888888888888888,
             "#fdca26"
            ],
            [
             1,
             "#f0f921"
            ]
           ],
           "sequentialminus": [
            [
             0,
             "#0d0887"
            ],
            [
             0.1111111111111111,
             "#46039f"
            ],
            [
             0.2222222222222222,
             "#7201a8"
            ],
            [
             0.3333333333333333,
             "#9c179e"
            ],
            [
             0.4444444444444444,
             "#bd3786"
            ],
            [
             0.5555555555555556,
             "#d8576b"
            ],
            [
             0.6666666666666666,
             "#ed7953"
            ],
            [
             0.7777777777777778,
             "#fb9f3a"
            ],
            [
             0.8888888888888888,
             "#fdca26"
            ],
            [
             1,
             "#f0f921"
            ]
           ]
          },
          "colorway": [
           "#636efa",
           "#EF553B",
           "#00cc96",
           "#ab63fa",
           "#FFA15A",
           "#19d3f3",
           "#FF6692",
           "#B6E880",
           "#FF97FF",
           "#FECB52"
          ],
          "font": {
           "color": "#2a3f5f"
          },
          "geo": {
           "bgcolor": "white",
           "lakecolor": "white",
           "landcolor": "#E5ECF6",
           "showlakes": true,
           "showland": true,
           "subunitcolor": "white"
          },
          "hoverlabel": {
           "align": "left"
          },
          "hovermode": "closest",
          "mapbox": {
           "style": "light"
          },
          "paper_bgcolor": "white",
          "plot_bgcolor": "#E5ECF6",
          "polar": {
           "angularaxis": {
            "gridcolor": "white",
            "linecolor": "white",
            "ticks": ""
           },
           "bgcolor": "#E5ECF6",
           "radialaxis": {
            "gridcolor": "white",
            "linecolor": "white",
            "ticks": ""
           }
          },
          "scene": {
           "xaxis": {
            "backgroundcolor": "#E5ECF6",
            "gridcolor": "white",
            "gridwidth": 2,
            "linecolor": "white",
            "showbackground": true,
            "ticks": "",
            "zerolinecolor": "white"
           },
           "yaxis": {
            "backgroundcolor": "#E5ECF6",
            "gridcolor": "white",
            "gridwidth": 2,
            "linecolor": "white",
            "showbackground": true,
            "ticks": "",
            "zerolinecolor": "white"
           },
           "zaxis": {
            "backgroundcolor": "#E5ECF6",
            "gridcolor": "white",
            "gridwidth": 2,
            "linecolor": "white",
            "showbackground": true,
            "ticks": "",
            "zerolinecolor": "white"
           }
          },
          "shapedefaults": {
           "line": {
            "color": "#2a3f5f"
           }
          },
          "ternary": {
           "aaxis": {
            "gridcolor": "white",
            "linecolor": "white",
            "ticks": ""
           },
           "baxis": {
            "gridcolor": "white",
            "linecolor": "white",
            "ticks": ""
           },
           "bgcolor": "#E5ECF6",
           "caxis": {
            "gridcolor": "white",
            "linecolor": "white",
            "ticks": ""
           }
          },
          "title": {
           "x": 0.05
          },
          "xaxis": {
           "automargin": true,
           "gridcolor": "white",
           "linecolor": "white",
           "ticks": "",
           "title": {
            "standoff": 15
           },
           "zerolinecolor": "white",
           "zerolinewidth": 2
          },
          "yaxis": {
           "automargin": true,
           "gridcolor": "white",
           "linecolor": "white",
           "ticks": "",
           "title": {
            "standoff": 15
           },
           "zerolinecolor": "white",
           "zerolinewidth": 2
          }
         }
        },
        "title": {
         "text": "Iris • Interactive PCA2 • k=3 • sil=0.460"
        },
        "xaxis": {
         "anchor": "y",
         "autorange": true,
         "domain": [
          0,
          1
         ],
         "range": [
          -3.142192573634661,
          3.678543454641218
         ],
         "title": {
          "text": "PC1"
         },
         "type": "linear"
        },
        "yaxis": {
         "anchor": "x",
         "autorange": true,
         "domain": [
          0,
          1
         ],
         "range": [
          -3.067565050708721,
          3.0997767172827495
         ],
         "title": {
          "text": "PC2"
         },
         "type": "linear"
        }
       }
      },
      "image/png": "[encoded data removed]",
      "text/html": [
       "<div>                            <div id=\"f58ec75a-1460-49a8-9bcd-3b820425a604\" class=\"plotly-graph-div\" style=\"height:525px; width:100%;\"></div>            <script type=\"text/javascript\">                require([\"plotly\"], function(Plotly) {                    window.PLOTLYENV=window.PLOTLYENV || {};                                    if (document.getElementById(\"f58ec75a-1460-49a8-9bcd-3b820425a604\")) {                    Plotly.newPlot(                        \"f58ec75a-1460-49a8-9bcd-3b820425a604\",                        [{\"customdata\":[[\"setosa\"],[\"setosa\"],[\"setosa\"],[\"setosa\"],[\"setosa\"],[\"setosa\"],[\"setosa\"],[\"setosa\"],[\"setosa\"],[\"setosa\"],[\"setosa\"],[\"setosa\"],[\"setosa\"],[\"setosa\"],[\"setosa\"],[\"setosa\"],[\"setosa\"],[\"setosa\"],[\"setosa\"],[\"setosa\"],[\"setosa\"],[\"setosa\"],[\"setosa\"],[\"setosa\"],[\"setosa\"],[\"setosa\"],[\"setosa\"],[\"setosa\"],[\"setosa\"],[\"setosa\"],[\"setosa\"],[\"setosa\"],[\"setosa\"],[\"setosa\"],[\"setosa\"],[\"setosa\"],[\"setosa\"],[\"setosa\"],[\"setosa\"],[\"setosa\"],[\"setosa\"],[\"setosa\"],[\"setosa\"],[\"setosa\"],[\"setosa\"],[\"setosa\"],[\"setosa\"],[\"setosa\"],[\"setosa\"],[\"setosa\"]],\"hovertemplate\":\"cluster=1\\u003cbr\\u003ePC1=%{x}\\u003cbr\\u003ePC2=%{y}\\u003cbr\\u003especies=%{customdata[0]}\\u003cextra\\u003e\\u003c\\u002fextra\\u003e\",\"legendgroup\":\"1\",\"marker\":{\"color\":\"#636efa\",\"symbol\":\"circle\"},\"mode\":\"markers\",\"name\":\"1\",\"orientation\":\"v\",\"showlegend\":true,\"x\":[-2.264702808807587,-2.080961151965766,-2.3642290538902992,-2.2993842170427063,-2.389842166313843,-2.0756309481765105,-2.444028835134151,-2.2328471588720133,-2.3346404779076195,-2.1843281749339405,-2.166310100701321,-2.3261308664426967,-2.218450898822408,-2.6331006957652265,-2.1987406032666885,-2.26221453160102,-2.207587695824591,-2.190349509192297,-1.8985719958028404,-2.343369053074991,-1.9143229960825665,-2.207012843194797,-2.77434470292733,-1.8186695286958476,-2.227163305706637,-1.9518463309003746,-2.051151372729414,-2.1685771746542146,-2.13956345130133,-2.265261493154239,-2.140122135647983,-1.831594770676027,-2.614947935858933,-2.446177391696513,-2.1099748753186507,-2.2078088990782643,-2.0451462067542,-2.5273319131704843,-2.4296325750845447,-2.1697107116306618,-2.286475143345669,-1.85812245637357,-2.553638395614354,-1.9644476837637392,-2.1370590058116217,-2.0697442995918287,-2.3847331657782607,-2.394376314219631,-2.229446547942673,-2.2038334355191287],\"xaxis\":\"x\",\"y\":[0.4800265965209901,-0.6741335566053526,-0.34190802388467567,-0.5973945076746752,0.646835382902028,1.489177523321168,0.047644197630014935,0.22314807268959244,-1.115327675461666,-0.46901356140237527,1.0436906530538608,0.13307833523923232,-0.7286761653165705,-0.9615067291701627,1.8600571132939325,2.686284485110594,1.4836093631555736,0.48883831648632853,1.4050187944665504,1.1278493819084772,0.40885570775590685,0.9241214267468993,0.45834366775291646,0.08555852628736668,0.13725445536342792,-0.6256185877766763,0.24216355266166775,0.5271495253082682,0.31321781013995253,-0.33773190376048,-0.5045406901415179,0.42369506760378656,1.79357585610443,2.150727877392926,-0.4602018414370369,-0.20610739768843636,0.6615581114631089,0.5922927741908104,-0.9041800403761475,0.2688789614354716,0.4417153876990509,-2.337415157553348,-0.4791006901223134,0.4723266677192616,1.1422292620394097,-0.7110527253858937,1.1204297019845373,-0.38624687258915663,0.9979597643079814,0.009216357521276806],\"yaxis\":\"y\",\"type\":\"scatter\"},{\"customdata\":[[\"versicolor\"],[\"versicolor\"],[\"versicolor\"],[\"versicolor\"],[\"versicolor\"],[\"versicolor\"],[\"versicolor\"],[\"versicolor\"],[\"versicolor\"],[\"versicolor\"],[\"versicolor\"],[\"virginica\"],[\"virginica\"],[\"virginica\"],[\"virginica\"],[\"virginica\"],[\"virginica\"],[\"virginica\"],[\"virginica\"],[\"virginica\"],[\"virginica\"],[\"virginica\"],[\"virginica\"],[\"virginica\"],[\"virginica\"],[\"virginica\"],[\"virginica\"],[\"virginica\"],[\"virginica\"],[\"virginica\"],[\"virginica\"],[\"virginica\"],[\"virginica\"],[\"virginica\"],[\"virginica\"],[\"virginica\"],[\"virginica\"],[\"virginica\"],[\"virginica\"],[\"virginica\"],[\"virginica\"],[\"virginica\"],[\"virginica\"],[\"virginica\"],[\"virginica\"],[\"virginica\"],[\"virginica\"]],\"hovertemplate\":\"cluster=2\\u003cbr\\u003ePC1=%{x}\\u003cbr\\u003ePC2=%{y}\\u003cbr\\u003especies=%{customdata[0]}\\u003cextra\\u003e\\u003c\\u002fextra\\u003e\",\"legendgroup\":\"2\",\"marker\":{\"color\":\"#EF553B\",\"symbol\":\"circle\"},\"mode\":\"markers\",\"name\":\"2\",\"orientation\":\"v\",\"showlegend\":true,\"x\":[1.1017811830529478,0.7313374253960874,1.240979319515831,0.7465297413291607,0.8754071908577375,0.7376826487712582,0.8742736538812903,1.2565091165418834,1.3584051214406316,0.4291391155161608,1.0487280512090873,1.8445688677230287,2.2052667910753776,1.4401506638275392,1.8678122203305372,2.7518733356662763,2.3024394446251963,2.006686467676605,2.2597773490125,1.3641754921860076,1.6026786704779303,1.8839007017032423,1.5900773176145655,1.4714314611333181,2.4263289873157,3.3106955839338865,2.037716301469404,2.897651490734168,1.7007338974912167,1.9543267058530707,1.020950550695791,1.7883499201796653,1.8636475533282606,2.435953727922703,2.3049277218317643,1.8627032197949551,2.7987704475781072,1.576255910194754,1.3462921036270619,1.8520450517676696,2.014810429954875,1.9017840902621888,2.040558228052092,1.9981470959523757,1.8705032929564103,1.5211704996278377,1.3727877895140728],\"xaxis\":\"x\",\"y\":[0.8629724182621589,0.5946147256694246,0.6162976544374983,0.7730193120985968,0.5090639567734084,0.396571561960239,0.2507933929006119,-0.07725601969586944,0.3313116817908978,0.8455822409050788,0.5220517968629425,0.8704213123248232,0.5620104770083552,-0.04698758810580692,0.29504482445701946,0.8004092010275413,0.4200655796427758,-0.7114386535471597,1.921010376459887,0.692756454490387,-0.42170044977261767,0.41924965060512326,0.6762448057233201,0.2556218244714703,2.5566612507954924,0.017780949320625992,0.9104674096183107,0.4136410595956469,1.0139218673227914,1.007777596153452,0.0643460292395617,-0.18736121459082922,0.5622907258861441,0.2592844331442795,2.626323468232379,-0.1785494946254908,0.8568033294971048,1.0685811073208076,0.42243061085250827,0.6761281744365212,0.6138856369235748,0.6895754942430025,0.8675206009552282,1.0491687471841449,0.38696608166572527,0.2690691442779515,1.011254418526793],\"yaxis\":\"y\",\"type\":\"scatter\"},{\"customdata\":[[\"versicolor\"],[\"versicolor\"],[\"versicolor\"],[\"versicolor\"],[\"versicolor\"],[\"versicolor\"],[\"versicolor\"],[\"versicolor\"],[\"versicolor\"],[\"versicolor\"],[\"versicolor\"],[\"versicolor\"],[\"versicolor\"],[\"versicolor\"],[\"versicolor\"],[\"versicolor\"],[\"versicolor\"],[\"versicolor\"],[\"versicolor\"],[\"versicolor\"],[\"versicolor\"],[\"versicolor\"],[\"versicolor\"],[\"versicolor\"],[\"versicolor\"],[\"versicolor\"],[\"versicolor\"],[\"versicolor\"],[\"versicolor\"],[\"versicolor\"],[\"versicolor\"],[\"versicolor\"],[\"versicolor\"],[\"versicolor\"],[\"versicolor\"],[\"versicolor\"],[\"versicolor\"],[\"versicolor\"],[\"versicolor\"],[\"virginica\"],[\"virginica\"],[\"virginica\"],[\"virginica\"],[\"virginica\"],[\"virginica\"],[\"virginica\"],[\"virginica\"],[\"virginica\"],[\"virginica\"],[\"virginica\"],[\"virginica\"],[\"virginica\"],[\"virginica\"]],\"hovertemplate\":\"cluster=0\\u003cbr\\u003ePC1=%{x}\\u003cbr\\u003ePC2=%{y}\\u003cbr\\u003especies=%{customdata[0]}\\u003cextra\\u003e\\u003c\\u002fextra\\u003e\",\"legendgroup\":\"0\",\"marker\":{\"color\":\"#00cc96\",\"symbol\":\"circle\"},\"mode\":\"markers\",\"name\":\"0\",\"orientation\":\"v\",\"showlegend\":true,\"x\":[0.4074830588173851,1.0754747006090781,0.388687336535665,-0.4873227421256392,0.9279016383549453,0.011426188736980446,-0.11019628000062877,0.44069344898307844,0.562108306443179,0.7195618886754965,-0.03335470317877197,0.35025166799508284,0.15881004754797157,1.2250936335624314,0.16491789938632748,0.47628719094097144,1.2341780976571488,0.6328581997098219,0.7026611831361823,0.6648003672253947,-0.040258610900595126,0.1307951754978608,0.023452688970551066,0.2415382729545111,1.0610946088426139,0.22397877351237988,1.044531384396279,0.06958832111642317,0.2834772382875755,0.2790777760554611,0.6245697914985716,0.33653037013143594,-0.36218338461938293,0.2885862388231575,0.09136065565450562,0.22771686553470025,0.5763882886534788,-0.4476670190286112,0.2567305888875848,1.1578816132057796,0.36701768786072453,1.2601150991975076,1.4676452010173238,1.2637666736398279,0.9779807342494216,1.3332321759732086,1.1751036315549324,1.1141477406864746,1.2024733016783906,0.9248249165424193,1.1578816132057796,1.5645804830303278,0.9606560300371277],\"xaxis\":\"x\",\"y\":[-1.7544039893234111,-0.20842104605096587,-0.5932836359900755,-1.8524290868575746,0.03222607789115352,-1.034018275129441,-2.6540728185365654,-0.06329518843800151,-1.764724380616946,-0.186224605831506,-0.43900320998162473,-0.19631173455144407,-0.7920957424327218,-1.622243803091503,-1.302609230295773,-0.4173202812135512,-0.933325728799279,-0.4163877208890998,-0.06341181972480033,-0.22592785469484383,-1.058718546553909,-1.562271834209968,-1.5724755942167048,-0.7772563825848421,-0.6338432447349474,-0.28777351204320234,-1.3829887191907828,-0.21950333464771501,-1.329324639069577,-1.1200285237424041,0.024923029254012515,-0.9884040176703605,-2.0192378732386125,-0.8557303199870667,-0.18119212582577532,-0.3849200809873539,-0.15487359721655905,-1.5437920343977565,-0.5988517961556696,-0.6988698623306908,-1.5615028914765061,-1.162260421406464,-0.4422715873770828,-1.7067453803762687,-0.5717643248129921,-0.4818112186494298,-0.3163944723097914,-0.2929226233357318,-0.8113152708396694,0.01722310045228403,-0.6988698623306908,-0.896686808896527,-0.02433166816939949],\"yaxis\":\"y\",\"type\":\"scatter\"}],                        {\"template\":{\"data\":{\"histogram2dcontour\":[{\"type\":\"histogram2dcontour\",\"colorbar\":{\"outlinewidth\":0,\"ticks\":\"\"},\"colorscale\":[[0.0,\"#0d0887\"],[0.1111111111111111,\"#46039f\"],[0.2222222222222222,\"#7201a8\"],[0.3333333333333333,\"#9c179e\"],[0.4444444444444444,\"#bd3786\"],[0.5555555555555556,\"#d8576b\"],[0.6666666666666666,\"#ed7953\"],[0.7777777777777778,\"#fb9f3a\"],[0.8888888888888888,\"#fdca26\"],[1.0,\"#f0f921\"]]}],\"choropleth\":[{\"type\":\"choropleth\",\"colorbar\":{\"outlinewidth\":0,\"ticks\":\"\"}}],\"histogram2d\":[{\"type\":\"histogram2d\",\"colorbar\":{\"outlinewidth\":0,\"ticks\":\"\"},\"colorscale\":[[0.0,\"#0d0887\"],[0.1111111111111111,\"#46039f\"],[0.2222222222222222,\"#7201a8\"],[0.3333333333333333,\"#9c179e\"],[0.4444444444444444,\"#bd3786\"],[0.5555555555555556,\"#d8576b\"],[0.6666666666666666,\"#ed7953\"],[0.7777777777777778,\"#fb9f3a\"],[0.8888888888888888,\"#fdca26\"],[1.0,\"#f0f921\"]]}],\"heatmap\":[{\"type\":\"heatmap\",\"colorbar\":{\"outlinewidth\":0,\"ticks\":\"\"},\"colorscale\":[[0.0,\"#0d0887\"],[0.1111111111111111,\"#46039f\"],[0.2222222222222222,\"#7201a8\"],[0.3333333333333333,\"#9c179e\"],[0.4444444444444444,\"#bd3786\"],[0.5555555555555556,\"#d8576b\"],[0.6666666666666666,\"#ed7953\"],[0.7777777777777778,\"#fb9f3a\"],[0.8888888888888888,\"#fdca26\"],[1.0,\"#f0f921\"]]}],\"heatmapgl\":[{\"type\":\"heatmapgl\",\"colorbar\":{\"outlinewidth\":0,\"ticks\":\"\"},\"colorscale\":[[0.0,\"#0d0887\"],[0.1111111111111111,\"#46039f\"],[0.2222222222222222,\"#7201a8\"],[0.3333333333333333,\"#9c179e\"],[0.4444444444444444,\"#bd3786\"],[0.5555555555555556,\"#d8576b\"],[0.6666666666666666,\"#ed7953\"],[0.7777777777777778,\"#fb9f3a\"],[0.8888888888888888,\"#fdca26\"],[1.0,\"#f0f921\"]]}],\"contourcarpet\":[{\"type\":\"contourcarpet\",\"colorbar\":{\"outlinewidth\":0,\"ticks\":\"\"}}],\"contour\":[{\"type\":\"contour\",\"colorbar\":{\"outlinewidth\":0,\"ticks\":\"\"},\"colorscale\":[[0.0,\"#0d0887\"],[0.1111111111111111,\"#46039f\"],[0.2222222222222222,\"#7201a8\"],[0.3333333333333333,\"#9c179e\"],[0.4444444444444444,\"#bd3786\"],[0.5555555555555556,\"#d8576b\"],[0.6666666666666666,\"#ed7953\"],[0.7777777777777778,\"#fb9f3a\"],[0.8888888888888888,\"#fdca26\"],[1.0,\"#f0f921\"]]}],\"surface\":[{\"type\":\"surface\",\"colorbar\":{\"outlinewidth\":0,\"ticks\":\"\"},\"colorscale\":[[0.0,\"#0d0887\"],[0.1111111111111111,\"#46039f\"],[0.2222222222222222,\"#7201a8\"],[0.3333333333333333,\"#9c179e\"],[0.4444444444444444,\"#bd3786\"],[0.5555555555555556,\"#d8576b\"],[0.6666666666666666,\"#ed7953\"],[0.7777777777777778,\"#fb9f3a\"],[0.8888888888888888,\"#fdca26\"],[1.0,\"#f0f921\"]]}],\"mesh3d\":[{\"type\":\"mesh3d\",\"colorbar\":{\"outlinewidth\":0,\"ticks\":\"\"}}],\"scatter\":[{\"fillpattern\":{\"fillmode\":\"overlay\",\"size\":10,\"solidity\":0.2},\"type\":\"scatter\"}],\"parcoords\":[{\"type\":\"parcoords\",\"line\":{\"colorbar\":{\"outlinewidth\":0,\"ticks\":\"\"}}}],\"scatterpolargl\":[{\"type\":\"scatterpolargl\",\"marker\":{\"colorbar\":{\"outlinewidth\":0,\"ticks\":\"\"}}}],\"bar\":[{\"error_x\":{\"color\":\"#2a3f5f\"},\"error_y\":{\"color\":\"#2a3f5f\"},\"marker\":{\"line\":{\"color\":\"#E5ECF6\",\"width\":0.5},\"pattern\":{\"fillmode\":\"overlay\",\"size\":10,\"solidity\":0.2}},\"type\":\"bar\"}],\"scattergeo\":[{\"type\":\"scattergeo\",\"marker\":{\"colorbar\":{\"outlinewidth\":0,\"ticks\":\"\"}}}],\"scatterpolar\":[{\"type\":\"scatterpolar\",\"marker\":{\"colorbar\":{\"outlinewidth\":0,\"ticks\":\"\"}}}],\"histogram\":[{\"marker\":{\"pattern\":{\"fillmode\":\"overlay\",\"size\":10,\"solidity\":0.2}},\"type\":\"histogram\"}],\"scattergl\":[{\"type\":\"scattergl\",\"marker\":{\"colorbar\":{\"outlinewidth\":0,\"ticks\":\"\"}}}],\"scatter3d\":[{\"type\":\"scatter3d\",\"line\":{\"colorbar\":{\"outlinewidth\":0,\"ticks\":\"\"}},\"marker\":{\"colorbar\":{\"outlinewidth\":0,\"ticks\":\"\"}}}],\"scattermapbox\":[{\"type\":\"scattermapbox\",\"marker\":{\"colorbar\":{\"outlinewidth\":0,\"ticks\":\"\"}}}],\"scatterternary\":[{\"type\":\"scatterternary\",\"marker\":{\"colorbar\":{\"outlinewidth\":0,\"ticks\":\"\"}}}],\"scattercarpet\":[{\"type\":\"scattercarpet\",\"marker\":{\"colorbar\":{\"outlinewidth\":0,\"ticks\":\"\"}}}],\"carpet\":[{\"aaxis\":{\"endlinecolor\":\"#2a3f5f\",\"gridcolor\":\"white\",\"linecolor\":\"white\",\"minorgridcolor\":\"white\",\"startlinecolor\":\"#2a3f5f\"},\"baxis\":{\"endlinecolor\":\"#2a3f5f\",\"gridcolor\":\"white\",\"linecolor\":\"white\",\"minorgridcolor\":\"white\",\"startlinecolor\":\"#2a3f5f\"},\"type\":\"carpet\"}],\"table\":[{\"cells\":{\"fill\":{\"color\":\"#EBF0F8\"},\"line\":{\"color\":\"white\"}},\"header\":{\"fill\":{\"color\":\"#C8D4E3\"},\"line\":{\"color\":\"white\"}},\"type\":\"table\"}],\"barpolar\":[{\"marker\":{\"line\":{\"color\":\"#E5ECF6\",\"width\":0.5},\"pattern\":{\"fillmode\":\"overlay\",\"size\":10,\"solidity\":0.2}},\"type\":\"barpolar\"}],\"pie\":[{\"automargin\":true,\"type\":\"pie\"}]},\"layout\":{\"autotypenumbers\":\"strict\",\"colorway\":[\"#636efa\",\"#EF553B\",\"#00cc96\",\"#ab63fa\",\"#FFA15A\",\"#19d3f3\",\"#FF6692\",\"#B6E880\",\"#FF97FF\",\"#FECB52\"],\"font\":{\"color\":\"#2a3f5f\"},\"hovermode\":\"closest\",\"hoverlabel\":{\"align\":\"left\"},\"paper_bgcolor\":\"white\",\"plot_bgcolor\":\"#E5ECF6\",\"polar\":{\"bgcolor\":\"#E5ECF6\",\"angularaxis\":{\"gridcolor\":\"white\",\"linecolor\":\"white\",\"ticks\":\"\"},\"radialaxis\":{\"gridcolor\":\"white\",\"linecolor\":\"white\",\"ticks\":\"\"}},\"ternary\":{\"bgcolor\":\"#E5ECF6\",\"aaxis\":{\"gridcolor\":\"white\",\"linecolor\":\"white\",\"ticks\":\"\"},\"baxis\":{\"gridcolor\":\"white\",\"linecolor\":\"white\",\"ticks\":\"\"},\"caxis\":{\"gridcolor\":\"white\",\"linecolor\":\"white\",\"ticks\":\"\"}},\"coloraxis\":{\"colorbar\":{\"outlinewidth\":0,\"ticks\":\"\"}},\"colorscale\":{\"sequential\":[[0.0,\"#0d0887\"],[0.1111111111111111,\"#46039f\"],[0.2222222222222222,\"#7201a8\"],[0.3333333333333333,\"#9c179e\"],[0.4444444444444444,\"#bd3786\"],[0.5555555555555556,\"#d8576b\"],[0.6666666666666666,\"#ed7953\"],[0.7777777777777778,\"#fb9f3a\"],[0.8888888888888888,\"#fdca26\"],[1.0,\"#f0f921\"]],\"sequentialminus\":[[0.0,\"#0d0887\"],[0.1111111111111111,\"#46039f\"],[0.2222222222222222,\"#7201a8\"],[0.3333333333333333,\"#9c179e\"],[0.4444444444444444,\"#bd3786\"],[0.5555555555555556,\"#d8576b\"],[0.6666666666666666,\"#ed7953\"],[0.7777777777777778,\"#fb9f3a\"],[0.8888888888888888,\"#fdca26\"],[1.0,\"#f0f921\"]],\"diverging\":[[0,\"#8e0152\"],[0.1,\"#c51b7d\"],[0.2,\"#de77ae\"],[0.3,\"#f1b6da\"],[0.4,\"#fde0ef\"],[0.5,\"#f7f7f7\"],[0.6,\"#e6f5d0\"],[0.7,\"#b8e186\"],[0.8,\"#7fbc41\"],[0.9,\"#4d9221\"],[1,\"#276419\"]]},\"xaxis\":{\"gridcolor\":\"white\",\"linecolor\":\"white\",\"ticks\":\"\",\"title\":{\"standoff\":15},\"zerolinecolor\":\"white\",\"automargin\":true,\"zerolinewidth\":2},\"yaxis\":{\"gridcolor\":\"white\",\"linecolor\":\"white\",\"ticks\":\"\",\"title\":{\"standoff\":15},\"zerolinecolor\":\"white\",\"automargin\":true,\"zerolinewidth\":2},\"scene\":{\"xaxis\":{\"backgroundcolor\":\"#E5ECF6\",\"gridcolor\":\"white\",\"linecolor\":\"white\",\"showbackground\":true,\"ticks\":\"\",\"zerolinecolor\":\"white\",\"gridwidth\":2},\"yaxis\":{\"backgroundcolor\":\"#E5ECF6\",\"gridcolor\":\"white\",\"linecolor\":\"white\",\"showbackground\":true,\"ticks\":\"\",\"zerolinecolor\":\"white\",\"gridwidth\":2},\"zaxis\":{\"backgroundcolor\":\"#E5ECF6\",\"gridcolor\":\"white\",\"linecolor\":\"white\",\"showbackground\":true,\"ticks\":\"\",\"zerolinecolor\":\"white\",\"gridwidth\":2}},\"shapedefaults\":{\"line\":{\"color\":\"#2a3f5f\"}},\"annotationdefaults\":{\"arrowcolor\":\"#2a3f5f\",\"arrowhead\":0,\"arrowwidth\":1},\"geo\":{\"bgcolor\":\"white\",\"landcolor\":\"#E5ECF6\",\"subunitcolor\":\"white\",\"showland\":true,\"showlakes\":true,\"lakecolor\":\"white\"},\"title\":{\"x\":0.05},\"mapbox\":{\"style\":\"light\"}}},\"xaxis\":{\"anchor\":\"y\",\"domain\":[0.0,1.0],\"title\":{\"text\":\"PC1\"}},\"yaxis\":{\"anchor\":\"x\",\"domain\":[0.0,1.0],\"title\":{\"text\":\"PC2\"}},\"legend\":{\"title\":{\"text\":\"cluster\"},\"tracegroupgap\":0},\"margin\":{\"t\":60},\"title\":{\"text\":\"Iris \\u2022 Interactive PCA2 \\u2022 k=3 \\u2022 sil=0.460\"}},                        {\"responsive\": true}                    ).then(function(){\n",
       "                            \n",
       "var gd = document.getElementById('f58ec75a-1460-49a8-9bcd-3b820425a604');\n",
       "var x = new MutationObserver(function (mutations, observer) {{\n",
       "        var display = window.getComputedStyle(gd).display;\n",
       "        if (!display || display === 'none') {{\n",
       "            console.log([gd, 'removed!']);\n",
       "            Plotly.purge(gd);\n",
       "            observer.disconnect();\n",
       "        }}\n",
       "}});\n",
       "\n",
       "// Listen for the removal of the full notebook cells\n",
       "var notebookContainer = gd.closest('#notebook-container');\n",
       "if (notebookContainer) {{\n",
       "    x.observe(notebookContainer, {childList: true});\n",
       "}}\n",
       "\n",
       "// Listen for the clearing of the current output cell\n",
       "var outputEl = gd.closest('.output');\n",
       "if (outputEl) {{\n",
       "    x.observe(outputEl, {childList: true});\n",
       "}}\n",
       "\n",
       "                        })                };                });            </script>        </div>"
      ]
     },
     "metadata": {},
     "output_type": "display_data"
    }
   ],
   "source": [
    "sil = silhouette_score(X_scaled, labels)\n",
    "ari = adjusted_rand_score(y, labels)\n",
    "print({\"k\":k_best, \"silhouette\":round(sil,3), \"ARI_vs_true\":round(ari,3)})\n",
    "try:\n",
    "    import plotly.express as px\n",
    "    df_plot = pd.DataFrame({\n",
    "        \"PC1\": Xp[:,0],\n",
    "        \"PC2\": Xp[:,1],\n",
    "        \"cluster\": labels.astype(str),  # ← categorical\n",
    "        \"species\": y.map(dict(enumerate(iris.target_names)))\n",
    "    })\n",
    "    fig = px.scatter(df_plot, x=\"PC1\", y=\"PC2\", color=\"cluster\", hover_data=[\"species\"])\n",
    "    fig.update_layout(title=f\"Iris • Interactive PCA2 • k={k_best} • sil={sil:.3f}\")\n",
    "    fig.show()\n",
    "except Exception as e:\n",
    "    print(\"Plotly not available — skipped interactive chart.\")"
   ]
  },
  {
   "cell_type": "code",
   "execution_count": null,
   "id": "cda87761-8b39-41fe-9087-54adb6796b77",
   "metadata": {},
   "outputs": [],
   "source": []
  }
 ],
 "metadata": {
  "kernelspec": {
   "display_name": "Python [conda env:base] *",
   "language": "python",
   "name": "conda-base-py"
  },
  "language_info": {
   "codemirror_mode": {
    "name": "ipython",
    "version": 3
   },
   "file_extension": ".py",
   "mimetype": "text/x-python",
   "name": "python",
   "nbconvert_exporter": "python",
   "pygments_lexer": "ipython3",
   "version": "3.12.7"
  }
 },
 "nbformat": 4,
 "nbformat_minor": 5
}
